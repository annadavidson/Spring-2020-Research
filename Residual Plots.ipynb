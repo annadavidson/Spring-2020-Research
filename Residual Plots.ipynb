{
 "cells": [
  {
   "cell_type": "code",
   "execution_count": 67,
   "metadata": {},
   "outputs": [
    {
     "name": "stdout",
     "output_type": "stream",
     "text": [
      " lambda   flux_cat  err_cat   err_full tempa_z  tempa_zprior\n",
      "-------- --------- --------- --------- -------- ------------\n",
      "21485.08    17.671  1.095975  1.299436 15.38418     15.38418\n",
      "3749.196 0.7336996  0.303726 0.3052325 1.543886     1.543886\n",
      "4326.617  1.985197 0.1646707 0.1871497 1.618363     1.618363\n",
      "5478.757   1.63024 0.2890886 0.2954527  1.77764      1.77764\n",
      "6485.849  2.199269 0.1902862 0.2015301 2.141585     2.141585\n",
      "8215.966  3.220228 0.3348305 0.3422353 3.268811     3.268811\n",
      "9179.498  4.764473 0.7995679 0.8048244 4.925511     4.925511\n",
      "10551.44  4.804726 0.7812712 0.7861353 5.981515     5.981515\n",
      "12583.92  7.587662 0.4885232 0.5155705 7.290732     7.290732\n",
      "35634.26   24.9403 0.4885232  1.183822   27.337       27.337\n",
      "45110.19  28.53927 0.5543915  1.526574 28.61705     28.61705\n",
      "57593.12  29.99752  2.453594  3.201018 22.00189     22.00189\n",
      "79594.23  75.03314  3.002496  9.034768 16.69503     16.69503\n"
     ]
    }
   ],
   "source": [
    "import numpy as np\n",
    "from matplotlib import pyplot as plt\n",
    "from astropy.io import ascii\n",
    "\n",
    "#To read in files with flux and template flux: each file is one galaxy, currently reads in the SpARCS0035 cluster, can modify for others\n",
    "fluxpath = r'''C:\\Users\\Anna\\PHOTOMETRY\\BESTFIT_SEDs\\EAZY\\for_greg'''\n",
    "#Example file name: SpARCS-0035_totalall_Ks_1.obs_sed  - number varies from 1-4889 for SpARCS-0035\n",
    "flux_dat_all = {} #initialize empty dictionary\n",
    "for n in range(4881, 4889):\n",
    "    name = \"\\SpARCS-0035_totalall_Ks_\" + str(n) + \".obs_sed\" #Should build the file name from path to file name\n",
    "    imstr = fluxpath + name\n",
    "    flux_dat = ascii.read(imstr) #will overwrite each time\n",
    "    flux_dat_all[str(n)] = flux_dat #appends dictonary with each file, key is the number n associated with that file, same as the number in the file name\n",
    "    #print (imstr)\n",
    "\n",
    "print(flux_dat_all['4881']) #prints one galaxy \n",
    "print(flux_dat_all) #prints all galaxies\n",
    "\n",
    "#print(flux_dat[0])    \n",
    "#flux_dat = ascii.read(imstr)\n",
    "#print(flux_dat[0][1]) #k band flux\n",
    "#print(flux_dat[0][5]) #template k band flux\n"
   ]
  },
  {
   "cell_type": "code",
   "execution_count": 71,
   "metadata": {},
   "outputs": [
    {
     "ename": "TypeError",
     "evalue": "slice indices must be integers or None or have an __index__ method",
     "output_type": "error",
     "traceback": [
      "\u001b[1;31m---------------------------------------------------------------------------\u001b[0m",
      "\u001b[1;31mTypeError\u001b[0m                                 Traceback (most recent call last)",
      "\u001b[1;32m<ipython-input-71-cda37417be76>\u001b[0m in \u001b[0;36m<module>\u001b[1;34m\u001b[0m\n\u001b[0;32m      8\u001b[0m \u001b[1;31m#To append flux_dat_all with redshifts from the above file:\u001b[0m\u001b[1;33m\u001b[0m\u001b[1;33m\u001b[0m\u001b[1;33m\u001b[0m\u001b[0m\n\u001b[0;32m      9\u001b[0m \u001b[1;33m\u001b[0m\u001b[0m\n\u001b[1;32m---> 10\u001b[1;33m \u001b[0mflux_dat_all\u001b[0m\u001b[1;33m[\u001b[0m\u001b[1;34m'4881'\u001b[0m\u001b[1;33m]\u001b[0m\u001b[1;33m[\u001b[0m\u001b[1;34m'zspec'\u001b[0m\u001b[1;33m:\u001b[0m\u001b[0mred_dat\u001b[0m\u001b[1;33m[\u001b[0m\u001b[1;36m4881\u001b[0m\u001b[1;33m]\u001b[0m\u001b[1;33m[\u001b[0m\u001b[1;36m1\u001b[0m\u001b[1;33m]\u001b[0m\u001b[1;33m]\u001b[0m\u001b[1;33m\u001b[0m\u001b[1;33m\u001b[0m\u001b[0m\n\u001b[0m\u001b[0;32m     11\u001b[0m \u001b[1;31m#print(flux_dat_all('zspec'))\u001b[0m\u001b[1;33m\u001b[0m\u001b[1;33m\u001b[0m\u001b[1;33m\u001b[0m\u001b[0m\n",
      "\u001b[1;32m~\\Anaconda\\lib\\site-packages\\astropy\\table\\table.py\u001b[0m in \u001b[0;36m__getitem__\u001b[1;34m(self, item)\u001b[0m\n\u001b[0;32m   1368\u001b[0m             \u001b[1;31m# is produced by np.where, as in t[np.where(t['a'] > 2)]\u001b[0m\u001b[1;33m\u001b[0m\u001b[1;33m\u001b[0m\u001b[1;33m\u001b[0m\u001b[0m\n\u001b[0;32m   1369\u001b[0m             \u001b[1;31m# For all, a new table is constructed with slice of all columns\u001b[0m\u001b[1;33m\u001b[0m\u001b[1;33m\u001b[0m\u001b[1;33m\u001b[0m\u001b[0m\n\u001b[1;32m-> 1370\u001b[1;33m             \u001b[1;32mreturn\u001b[0m \u001b[0mself\u001b[0m\u001b[1;33m.\u001b[0m\u001b[0m_new_from_slice\u001b[0m\u001b[1;33m(\u001b[0m\u001b[0mitem\u001b[0m\u001b[1;33m)\u001b[0m\u001b[1;33m\u001b[0m\u001b[1;33m\u001b[0m\u001b[0m\n\u001b[0m\u001b[0;32m   1371\u001b[0m         \u001b[1;32melse\u001b[0m\u001b[1;33m:\u001b[0m\u001b[1;33m\u001b[0m\u001b[1;33m\u001b[0m\u001b[0m\n\u001b[0;32m   1372\u001b[0m             raise ValueError('Illegal type {0} for table item access'\n",
      "\u001b[1;32m~\\Anaconda\\lib\\site-packages\\astropy\\table\\table.py\u001b[0m in \u001b[0;36m_new_from_slice\u001b[1;34m(self, slice_)\u001b[0m\n\u001b[0;32m    917\u001b[0m         \u001b[0mnewcols\u001b[0m \u001b[1;33m=\u001b[0m \u001b[1;33m[\u001b[0m\u001b[1;33m]\u001b[0m\u001b[1;33m\u001b[0m\u001b[1;33m\u001b[0m\u001b[0m\n\u001b[0;32m    918\u001b[0m         \u001b[1;32mfor\u001b[0m \u001b[0mcol\u001b[0m \u001b[1;32min\u001b[0m \u001b[0mself\u001b[0m\u001b[1;33m.\u001b[0m\u001b[0mcolumns\u001b[0m\u001b[1;33m.\u001b[0m\u001b[0mvalues\u001b[0m\u001b[1;33m(\u001b[0m\u001b[1;33m)\u001b[0m\u001b[1;33m:\u001b[0m\u001b[1;33m\u001b[0m\u001b[1;33m\u001b[0m\u001b[0m\n\u001b[1;32m--> 919\u001b[1;33m             \u001b[0mnewcol\u001b[0m \u001b[1;33m=\u001b[0m \u001b[0mcol\u001b[0m\u001b[1;33m[\u001b[0m\u001b[0mslice_\u001b[0m\u001b[1;33m]\u001b[0m\u001b[1;33m\u001b[0m\u001b[1;33m\u001b[0m\u001b[0m\n\u001b[0m\u001b[0;32m    920\u001b[0m \u001b[1;33m\u001b[0m\u001b[0m\n\u001b[0;32m    921\u001b[0m             \u001b[1;31m# Note in line below, use direct attribute access to col.indices for Column\u001b[0m\u001b[1;33m\u001b[0m\u001b[1;33m\u001b[0m\u001b[1;33m\u001b[0m\u001b[0m\n",
      "\u001b[1;32mastropy/table/_column_mixins.pyx\u001b[0m in \u001b[0;36mastropy.table._column_mixins._ColumnGetitemShim.__getitem__\u001b[1;34m()\u001b[0m\n",
      "\u001b[1;32mastropy/table/_column_mixins.pyx\u001b[0m in \u001b[0;36mastropy.table._column_mixins.base_getitem\u001b[1;34m()\u001b[0m\n",
      "\u001b[1;32mastropy/table/_column_mixins.pyx\u001b[0m in \u001b[0;36mastropy.table._column_mixins.column_getitem\u001b[1;34m()\u001b[0m\n",
      "\u001b[1;31mTypeError\u001b[0m: slice indices must be integers or None or have an __index__ method"
     ]
    }
   ],
   "source": [
    "#To read in spectroscopic redshift:\n",
    "redpath = r'''C:\\Users\\Anna\\PHOTOMETRY\\SPECZ_MATCHED'''\n",
    "filename = redpath + \"\\compilation_SpARCS-0035.dat\"\n",
    "red_dat = ascii.read(filename)\n",
    "#print(red_dat[1][:]) #prints all redshifts\n",
    "#print(red_dat[4881][1]) #prints redshift for galaxy 4881\n",
    "\n",
    "#To append flux_dat_all with redshifts from the above file:\n",
    "\n",
    "flux_dat_all['4881']['zspec':red_dat[4881][1]]\n",
    "#print(flux_dat_all('zspec'))\n"
   ]
  }
 ],
 "metadata": {
  "kernelspec": {
   "display_name": "Python 3",
   "language": "python",
   "name": "python3"
  },
  "language_info": {
   "codemirror_mode": {
    "name": "ipython",
    "version": 3
   },
   "file_extension": ".py",
   "mimetype": "text/x-python",
   "name": "python",
   "nbconvert_exporter": "python",
   "pygments_lexer": "ipython3",
   "version": "3.7.3"
  }
 },
 "nbformat": 4,
 "nbformat_minor": 2
}
