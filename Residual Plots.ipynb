{
 "cells": [
  {
   "cell_type": "code",
   "execution_count": 26,
   "metadata": {},
   "outputs": [
    {
     "name": "stdout",
     "output_type": "stream",
     "text": [
      "{'lambda': array([21485.08 ,  3749.196,  4326.617,  5478.757,  6485.849,  8215.966,\n",
      "        9179.498, 10551.44 , 12583.92 , 35634.26 , 45110.19 , 57593.12 ,\n",
      "       79594.23 ]), 'flux_cat': array([17.671    ,  0.7336996,  1.985197 ,  1.63024  ,  2.199269 ,\n",
      "        3.220228 ,  4.764473 ,  4.804726 ,  7.587662 , 24.9403   ,\n",
      "       28.53927  , 29.99752  , 75.03314  ])}\n"
     ]
    },
    {
     "data": {
      "text/plain": [
       "array([21485.08 ,  3749.196,  4326.617,  5478.757,  6485.849,  8215.966,\n",
       "        9179.498, 10551.44 , 12583.92 , 35634.26 , 45110.19 , 57593.12 ,\n",
       "       79594.23 ])"
      ]
     },
     "execution_count": 26,
     "metadata": {},
     "output_type": "execute_result"
    }
   ],
   "source": [
    "import numpy as np\n",
    "from matplotlib import pyplot as plt\n",
    "from astropy.io import ascii\n",
    "\n",
    "#To read in files with flux and template flux: each file is one galaxy, currently reads in the SpARCS0035 cluster, can modify for others\n",
    "#fluxpath = r'''C:\\Users\\Anna\\PHOTOMETRY\\BESTFIT_SEDs\\EAZY\\for_greg\\'''\n",
    "fluxpath = '/Users/grudnick/Work/GOGREEN/Data/Releases/v1.1/PHOTOMETRY/BESTFIT_SEDs/EAZY/for_greg/'\n",
    "#Example file name: SpARCS-0035_totalall_Ks_1.obs_sed  - number varies from 1-4889 for SpARCS-0035\n",
    "flux_dat_all = {} #initialize empty dictionary\n",
    "for n in range(4881, 4889):\n",
    "    name = \"SpARCS-0035_totalall_Ks_\" + str(n) + \".obs_sed\" #Should build the file name from path to file name\n",
    "    imstr = fluxpath + name\n",
    "    flux_dat = ascii.read(imstr) #will overwrite each time\n",
    "    #flux_dat_all[str(n)] = flux_dat #appends dictonary with each file, key is the number n associated with that file, same as the number in the file name\n",
    "    #flux_dat_all[str(n)]['lambda'] = np.array([])\n",
    "    flux_dat_all[str(n)] = {}\n",
    "    flux_dat_all[str(n)]['lambda'] = np.array(flux_dat['lambda'])\n",
    "    flux_dat_all[str(n)]['flux_cat'] = np.array(flux_dat['flux_cat'])\n",
    "    #do for all other columns\n",
    "    #print (imstr)\n",
    "\n",
    "print(flux_dat_all['4881']) #prints one galaxy \n",
    "flux_dat_all['4881']['lambda'] #prints one galaxy \n",
    "#print(flux_dat_all) #prints all galaxies\n",
    "\n",
    "\n",
    "#print(flux_dat[0])    \n",
    "#flux_dat = ascii.read(imstr)\n",
    "#print(flux_dat[0][1]) #k band flux\n",
    "#print(flux_dat[0][5]) #template k band flux\n"
   ]
  },
  {
   "cell_type": "code",
   "execution_count": 27,
   "metadata": {},
   "outputs": [
    {
     "name": "stdout",
     "output_type": "stream",
     "text": [
      "-99.0\n"
     ]
    }
   ],
   "source": [
    "#To read in spectroscopic redshift:\n",
    "#redpath = r'''C:\\Users\\Anna\\PHOTOMETRY\\SPECZ_MATCHED\\'''\n",
    "redpath = '/Users/grudnick/Work/GOGREEN/Data/Releases/v1.1/PHOTOMETRY/SPECZ_MATCHED/'\n",
    "filename = redpath + \"compilation_SpARCS-0035.dat\"\n",
    "red_dat = ascii.read(filename)\n",
    "#print(red_dat[1][:]) #prints all redshifts\n",
    "print(red_dat[4881]['spec_z']) #prints redshift for galaxy 4881\n",
    "\n",
    "#To append flux_dat_all with redshifts from the above file:\n",
    "\n",
    "flux_dat_all['4881']['zspec'] = red_dat[4881]['spec_z']\n",
    "#print(flux_dat_all['zspec'])\n"
   ]
  },
  {
   "cell_type": "code",
   "execution_count": null,
   "metadata": {},
   "outputs": [],
   "source": []
  }
 ],
 "metadata": {
  "kernelspec": {
   "display_name": "Python 3",
   "language": "python",
   "name": "python3"
  },
  "language_info": {
   "codemirror_mode": {
    "name": "ipython",
    "version": 3
   },
   "file_extension": ".py",
   "mimetype": "text/x-python",
   "name": "python",
   "nbconvert_exporter": "python",
   "pygments_lexer": "ipython3",
   "version": "3.7.4"
  }
 },
 "nbformat": 4,
 "nbformat_minor": 2
}
