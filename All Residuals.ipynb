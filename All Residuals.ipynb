{
 "cells": [
  {
   "cell_type": "code",
   "execution_count": 75,
   "metadata": {},
   "outputs": [],
   "source": [
    "import numpy as np\n",
    "from matplotlib import pyplot as plt\n",
    "from astropy.io import ascii\n",
    "from collections import defaultdict\n"
   ]
  },
  {
   "cell_type": "code",
   "execution_count": 3,
   "metadata": {},
   "outputs": [
    {
     "name": "stdout",
     "output_type": "stream",
     "text": [
      "Effective K band wavelength =  21592.313483634916\n",
      "K band wavelength from SEDs =  21485.08\n"
     ]
    }
   ],
   "source": [
    "#Make a code that figures out which filters are used for a cluster:\n",
    "#Could read in one SED for each cluster, take first column, which is the wavelengths observed, check against effective wavelengths I found before?\n",
    "\n",
    "#Calling the function finding_eff_waves into an array of effective wavelengths\n",
    "from Finding_Effective_Wavelengths import finding_eff_waves\n",
    "all_filters = finding_eff_waves() #Here's a dictionary of all kilter names and their effective wavelength, example key = 'u'\n",
    "print(\"Effective K band wavelength = \", all_filters['Ks'])\n",
    "print(\"K band wavelength from SEDs = \", 21485.08)\n",
    "\n",
    "#Note to self: I've decided to do this part later. For now I should be able to have the plot print the wavelenght its using\n",
    "#onto the plot to keep track of which filter it is, and I can go in later with this code to figure out which filter name\n",
    "#corresponds to that wavelength. tldr: I dont wanna do this rn\n"
   ]
  },
  {
   "cell_type": "code",
   "execution_count": 60,
   "metadata": {},
   "outputs": [
    {
     "name": "stdout",
     "output_type": "stream",
     "text": [
      "0.469\n",
      "{0: 41.47551, 1: 4.35114, 2: 5.316381, 3: 9.429767, 4: 15.88747, 5: 21.50452, 6: 25.55493, 7: 27.52595, 8: 31.3088, 9: 27.38753, 10: 20.12266, 11: 8.184291}\n"
     ]
    }
   ],
   "source": [
    "#Define a function that will take in the galaxy name, desired filter:\n",
    "\n",
    "\n",
    "fluxpath = r'''C:\\Users\\Anna\\PHOTOMETRY\\BESTFIT_SEDs\\EAZY\\for_greg'''\n",
    "flux_dat_all = {} #initialize empty dictionary, not sure I still need this\n",
    "redpath = r'''C:\\Users\\Anna\\PHOTOMETRY\\SPECZ_MATCHED'''\n",
    "filename = redpath + \"\\compilation_SpARCS-0035.dat\" \n",
    "red_dat = ascii.read(filename)\n",
    "parapath = r'''C:\\Users\\Anna\\Learning-Python-master\\SpARCS-0035_totalall_HAWKIKs.cat'''\n",
    "para_dat = ascii.read(parapath)\n",
    "\n",
    "good_flux = 10**0.8 #good_flux corresponds to k band mag < 23\n",
    "indices = np.where((red_dat['spec_z'] > 0) & (para_dat['totmask'] == 0) & (para_dat['K_flag'] == 0) & (para_dat['K_star'] <0.97))# & (para_dat['HAWKIKs'] > good_flux))\n",
    "indices = indices[0]\n",
    "izspec = [x+1 for x in indices]\n",
    "\n",
    "\n",
    "\n",
    "for galaxy in izspec:\n",
    "    name = \"\\SpARCS-0035_totalall_Ks_\" + str(galaxy) + \".obs_sed\" #Should build the file name from path to file name\n",
    "    imstr = fluxpath + name\n",
    "    flux_dat = ascii.read(imstr) #will overwrite each time\n",
    "    flux_dat_all[str(galaxy)] = {} #initialize\n",
    "    flux_dat_all[str(galaxy)]['lambda'] = np.array(flux_dat['lambda'])\n",
    "    flux_dat_all[str(galaxy)]['flux_cat'] = np.array(flux_dat['flux_cat'])\n",
    "    flux_dat_all[str(galaxy)]['err_cat'] = np.array(flux_dat['err_cat'])\n",
    "    flux_dat_all[str(galaxy)]['err_full'] = np.array(flux_dat['err_full'])\n",
    "    flux_dat_all[str(galaxy)]['tempa_z'] = np.array(flux_dat['tempa_z'])\n",
    "    flux_dat_all[str(galaxy)]['tempa_zprior'] = np.array(flux_dat['tempa_zprior'])\n",
    "    flux_dat_all[str(galaxy)]['zspec'] = np.array(red_dat[galaxy-1]['spec_z']) #unlike others, need to specify which galaxy with [n] because red_dat has all in one file\n",
    "#print(len(flux_dat_all['1198']['flux_cat']))\n",
    "\n",
    "\n",
    "redshift = {}        \n",
    "for galaxy in izspec:\n",
    "    redshift[str(galaxy)] = (flux_dat_all[str(galaxy)]['zspec'])\n",
    "    dat[str(galaxy)] = {} #apparently I have to initialize these in here? I don't know why, but I get a \"Key Error\" if I dont\n",
    "    mod[str(galaxy)] = {}\n",
    "    for filt in range(len(flux_dat_all[str(galaxy)]['flux_cat'])): #can't do range(13) because some galaxies are missing filters\n",
    "        dat[str(galaxy)][filt] = flux_dat_all[str(galaxy)]['flux_cat'][filt] #0th should be the k band catalog flux\n",
    "        mod[str(galaxy)][filt] = (flux_dat_all[str(galaxy)]['tempa_zprior'][filt]) \n",
    "        \n",
    "#print(dat) prints catalog flux for each galaxy (indexed by string name of galaxy) and each filter (indexed 0-11)\n",
    "print(redshift['1198'])\n",
    "print(mod['1198'])"
   ]
  },
  {
   "cell_type": "code",
   "execution_count": 85,
   "metadata": {},
   "outputs": [
    {
     "data": {
      "image/png": "[encoded data removed]",
      "text/plain": [
       "<Figure size 432x288 with 1 Axes>"
      ]
     },
     "metadata": {
      "needs_background": "light"
     },
     "output_type": "display_data"
    }
   ],
   "source": [
    "#Let's start with galaxy 481, all filters\n",
    "#mod['481'] is the model flux, dat['481'] is the template flux, and redshift['481'] is the x values\n",
    "#print(redshift)\n",
    "\n",
    "def makeresidual (filt):\n",
    "    x = []\n",
    "    fdat_k = []\n",
    "    fmod_k = []\n",
    "    i = filt \n",
    "    for galaxy in izspec:\n",
    "        x.append(redshift[str(galaxy)])\n",
    "        fdat_k.append(dat[str(galaxy)][i])\n",
    "        fmod_k.append(mod[str(galaxy)][i])\n",
    "\n",
    "    fmod_k = np.array(fmod_k)\n",
    "    fdat_k = np.array(fdat_k)\n",
    "    y = (fdat_k - fmod_k)/fdat_k\n",
    "\n",
    "    plt.scatter(x,y)\n",
    "    plt.xlabel(\"Redshift\")\n",
    "    plt.ylabel(\"fdat-fmod/fdat\")\n",
    "    plt.axis([0,3, -0.5, 0.5])\n",
    "\n",
    "makeresidual(0)\n",
    "\n",
    "#Notes for me:\n",
    "#So this code only works for the filters in which there is is a flux for every galaxy in that filter, so now I need to\n",
    "#actually figure out how to call filters by name instead of index number, and also figure out what to do with galaxies\n",
    "#where there is a filter missing (I could make the missing line zeros, but then when plotted, those galaxy's points would\n",
    "# show up somehow still, so it'd be better to throw out those galaxies just for that filter?)\n",
    "#To call filters by name I will also need to make the code that takes the filter's wavelength and matches it to its filter\n",
    "#name from my function Finding_Effective_Wavelengths, within some range of angstroms\n",
    "\n",
    "#Also, I'd love to automate all the above nested loops into a function if that's possible?\n",
    "\n"
   ]
  },
  {
   "cell_type": "code",
   "execution_count": null,
   "metadata": {},
   "outputs": [],
   "source": []
  }
 ],
 "metadata": {
  "kernelspec": {
   "display_name": "Python 3",
   "language": "python",
   "name": "python3"
  },
  "language_info": {
   "codemirror_mode": {
    "name": "ipython",
    "version": 3
   },
   "file_extension": ".py",
   "mimetype": "text/x-python",
   "name": "python",
   "nbconvert_exporter": "python",
   "pygments_lexer": "ipython3",
   "version": "3.7.3"
  }
 },
 "nbformat": 4,
 "nbformat_minor": 2
}
